{
 "cells": [
  {
   "cell_type": "code",
   "execution_count": 20,
   "id": "fb58871a-9fd6-4dfd-b0ee-00166106e593",
   "metadata": {},
   "outputs": [
    {
     "name": "stdout",
     "output_type": "stream",
     "text": [
      "The autoreload extension is already loaded. To reload it, use:\n",
      "  %reload_ext autoreload\n"
     ]
    }
   ],
   "source": [
    "from src.clients.database import DatabaseConnection\n",
    "from datetime import datetime\n",
    "import pandas as pd\n",
    "\n",
    "%load_ext autoreload\n",
    "%autoreload 2"
   ]
  },
  {
   "cell_type": "code",
   "execution_count": 21,
   "id": "9c0c8ca2-fbc0-406e-adbd-2f7ddb6c8646",
   "metadata": {},
   "outputs": [],
   "source": [
    "database_connection = DatabaseConnection()"
   ]
  },
  {
   "cell_type": "code",
   "execution_count": 45,
   "id": "ad0ade1f-54d0-46f1-8e29-fcbbdb62b3b7",
   "metadata": {},
   "outputs": [],
   "source": [
    "timestamp_after = datetime(2023,12,1)\n",
    "timestamp_before = datetime(2023,12,30)\n",
    "base_currency = 'EUR'\n",
    "quote_currency = 'USD'\n",
    "currency_data = database_connection.get_rates_between_timestamps_as_series(base_currency, quote_currency) #timestamp_after, timestamp_before)"
   ]
  },
  {
   "cell_type": "code",
   "execution_count": 46,
   "id": "ba1fe5ec-9ec5-4406-99f1-3edc8b3d44ca",
   "metadata": {},
   "outputs": [
    {
     "data": {
      "text/html": [
       "<div>\n",
       "<style scoped>\n",
       "    .dataframe tbody tr th:only-of-type {\n",
       "        vertical-align: middle;\n",
       "    }\n",
       "\n",
       "    .dataframe tbody tr th {\n",
       "        vertical-align: top;\n",
       "    }\n",
       "\n",
       "    .dataframe thead th {\n",
       "        text-align: right;\n",
       "    }\n",
       "</style>\n",
       "<table border=\"1\" class=\"dataframe\">\n",
       "  <thead>\n",
       "    <tr style=\"text-align: right;\">\n",
       "      <th></th>\n",
       "      <th>timestamp</th>\n",
       "      <th>rate</th>\n",
       "    </tr>\n",
       "  </thead>\n",
       "  <tbody>\n",
       "    <tr>\n",
       "      <th>29</th>\n",
       "      <td>2022-01-01</td>\n",
       "      <td>1.137145</td>\n",
       "    </tr>\n",
       "    <tr>\n",
       "      <th>30</th>\n",
       "      <td>2022-01-02</td>\n",
       "      <td>1.137288</td>\n",
       "    </tr>\n",
       "    <tr>\n",
       "      <th>31</th>\n",
       "      <td>2022-01-03</td>\n",
       "      <td>1.129982</td>\n",
       "    </tr>\n",
       "    <tr>\n",
       "      <th>32</th>\n",
       "      <td>2022-01-04</td>\n",
       "      <td>1.128343</td>\n",
       "    </tr>\n",
       "    <tr>\n",
       "      <th>33</th>\n",
       "      <td>2022-01-05</td>\n",
       "      <td>1.131346</td>\n",
       "    </tr>\n",
       "    <tr>\n",
       "      <th>...</th>\n",
       "      <td>...</td>\n",
       "      <td>...</td>\n",
       "    </tr>\n",
       "    <tr>\n",
       "      <th>24</th>\n",
       "      <td>2023-12-25</td>\n",
       "      <td>1.101953</td>\n",
       "    </tr>\n",
       "    <tr>\n",
       "      <th>25</th>\n",
       "      <td>2023-12-26</td>\n",
       "      <td>1.104246</td>\n",
       "    </tr>\n",
       "    <tr>\n",
       "      <th>26</th>\n",
       "      <td>2023-12-27</td>\n",
       "      <td>1.110821</td>\n",
       "    </tr>\n",
       "    <tr>\n",
       "      <th>27</th>\n",
       "      <td>2023-12-28</td>\n",
       "      <td>1.106757</td>\n",
       "    </tr>\n",
       "    <tr>\n",
       "      <th>28</th>\n",
       "      <td>2023-12-29</td>\n",
       "      <td>1.106470</td>\n",
       "    </tr>\n",
       "  </tbody>\n",
       "</table>\n",
       "<p>728 rows × 2 columns</p>\n",
       "</div>"
      ],
      "text/plain": [
       "    timestamp      rate\n",
       "29 2022-01-01  1.137145\n",
       "30 2022-01-02  1.137288\n",
       "31 2022-01-03  1.129982\n",
       "32 2022-01-04  1.128343\n",
       "33 2022-01-05  1.131346\n",
       "..        ...       ...\n",
       "24 2023-12-25  1.101953\n",
       "25 2023-12-26  1.104246\n",
       "26 2023-12-27  1.110821\n",
       "27 2023-12-28  1.106757\n",
       "28 2023-12-29  1.106470\n",
       "\n",
       "[728 rows x 2 columns]"
      ]
     },
     "execution_count": 46,
     "metadata": {},
     "output_type": "execute_result"
    }
   ],
   "source": [
    "df = pd.DataFrame(currency_data, columns = ['timestamp', 'rate']).sort_values(by = 'timestamp')\n",
    "df"
   ]
  },
  {
   "cell_type": "code",
   "execution_count": null,
   "id": "b7fc28b4-0c82-4ade-b498-fcd87a5d8eda",
   "metadata": {},
   "outputs": [],
   "source": [
    "fig = go.Figure()\n",
    "fig.add_trace(go.Scatter(x = df['timestamp'], y = df['rate'](\n"
   ]
  }
 ],
 "metadata": {
  "kernelspec": {
   "display_name": "Python 3 (ipykernel)",
   "language": "python",
   "name": "python3"
  },
  "language_info": {
   "codemirror_mode": {
    "name": "ipython",
    "version": 3
   },
   "file_extension": ".py",
   "mimetype": "text/x-python",
   "name": "python",
   "nbconvert_exporter": "python",
   "pygments_lexer": "ipython3",
   "version": "3.11.4"
  }
 },
 "nbformat": 4,
 "nbformat_minor": 5
}
