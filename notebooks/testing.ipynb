{
 "cells": [
  {
   "cell_type": "code",
   "execution_count": 2,
   "metadata": {},
   "outputs": [],
   "source": [
    "import sys\n",
    "import os\n",
    "root_path = os.path.dirname(os.getcwd()) \n",
    "sys.path.append(root_path)\n",
    "\n",
    "import alpaca_trade_api as tradeapi\n",
    "import config as cf\n",
    "import pandas as pd\n",
    "import plotly.express as px\n",
    "import plotly.graph_objects as go\n",
    "\n",
    "from src import alpaca\n",
    "from src import plotting\n",
    "import plotly.io as pio\n",
    "\n",
    "%load_ext autoreload\n",
    "%autoreload 2"
   ]
  },
  {
   "cell_type": "code",
   "execution_count": null,
   "metadata": {},
   "outputs": [],
   "source": [
    "# Instantiate REST API Connection\n",
    "api = tradeapi.REST(key_id=cf.APCA_API_KEY, secret_key=cf.APCA_SECRET_KEY, \n",
    "                    base_url=cf.APCA_MARKET_BASE_URL, api_version='v2')\n",
    "\n",
    "APPLE_DATA = api.get_bars('AAPL', start = \"2022-09-29\", end = \"2023-09-29\", timeframe=\"1Day\", limit=100).df\n",
    "\n",
    "APPLE_DATA['20_SMA'] = APPLE_DATA['close'].rolling(window = 20, min_periods=1).mean()\n",
    "APPLE_DATA['10_SMA'] = APPLE_DATA['close'].rolling(window = 10, min_periods=1).mean()\n",
    "APPLE_DATA['buy'] =((APPLE_DATA['10_SMA'] > APPLE_DATA['20_SMA']) & (APPLE_DATA['10_SMA'].shift(-1) < APPLE_DATA['20_SMA'].shift(-1)))\n",
    "APPLE_DATA['sell'] =((APPLE_DATA['10_SMA'] < APPLE_DATA['20_SMA']) & (APPLE_DATA['10_SMA'].shift(-1) > APPLE_DATA['20_SMA'].shift(-1)))\n",
    "buy_list = APPLE_DATA[APPLE_DATA['buy']].index.tolist()\n",
    "sell_list = APPLE_DATA[APPLE_DATA['sell']].index.tolist()\n",
    "\n",
    "fig = go.Figure()\n",
    "for tag in ['close', '10_SMA', '20_SMA']:\n",
    "    fig.add_trace(go.Scatter(\n",
    "        x = APPLE_DATA.index,\n",
    "        y = APPLE_DATA[tag],\n",
    "        name = tag\n",
    "))\n",
    "\n",
    "for buy in buy_list:\n",
    "    fig.add_vrect(x0=buy-pd.Timedelta(hours = 6), x1=buy+pd.Timedelta(hours = 6),line_width=0, fillcolor=\"green\", opacity=0.5)\n",
    "for sell in sell_list:\n",
    "    fig.add_vrect(x0=sell-pd.Timedelta(hours = 6), x1=sell+pd.Timedelta(hours = 6),line_width=0, fillcolor=\"red\", opacity=0.5)\n",
    "\n",
    "fig"
   ]
  },
  {
   "cell_type": "code",
   "execution_count": null,
   "metadata": {},
   "outputs": [],
   "source": [
    "### Get account info\n",
    "\n",
    "account_info = alpaca.get_account_info()"
   ]
  },
  {
   "cell_type": "code",
   "execution_count": null,
   "metadata": {},
   "outputs": [],
   "source": [
    "### Get bars\n",
    "\n",
    "pio.write_html(fig, file=\"../index.html\", auto_open=True)\n",
    "fig.show()"
   ]
  },
  {
   "cell_type": "code",
   "execution_count": null,
   "metadata": {},
   "outputs": [],
   "source": [
    "alpaca.get_historical_rates()"
   ]
  }
 ],
 "metadata": {
  "kernelspec": {
   "display_name": "env",
   "language": "python",
   "name": "python3"
  },
  "language_info": {
   "codemirror_mode": {
    "name": "ipython",
    "version": 3
   },
   "file_extension": ".py",
   "mimetype": "text/x-python",
   "name": "python",
   "nbconvert_exporter": "python",
   "pygments_lexer": "ipython3",
   "version": "3.11.4"
  },
  "orig_nbformat": 4
 },
 "nbformat": 4,
 "nbformat_minor": 2
}
