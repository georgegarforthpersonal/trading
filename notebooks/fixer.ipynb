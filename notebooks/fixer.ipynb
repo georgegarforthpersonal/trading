{
 "cells": [
  {
   "cell_type": "code",
   "execution_count": 1,
   "outputs": [],
   "source": [
    "from src import fixer\n",
    "from src import fastforex\n",
    "\n",
    "%load_ext autoreload\n",
    "%autoreload 2"
   ],
   "metadata": {
    "collapsed": false,
    "ExecuteTime": {
     "end_time": "2023-12-16T17:06:28.699861Z",
     "start_time": "2023-12-16T17:06:28.672351Z"
    }
   }
  },
  {
   "cell_type": "code",
   "execution_count": 2,
   "outputs": [
    {
     "data": {
      "text/plain": "{'success': False,\n 'error': {'code': 105,\n  'type': 'function_access_restricted',\n  'info': 'Access Restricted - Your current Subscription Plan does not support this API Function.'}}"
     },
     "execution_count": 2,
     "metadata": {},
     "output_type": "execute_result"
    }
   ],
   "source": [
    "fixer.get_timeseries('2023-10-01','2023-10-03')"
   ],
   "metadata": {
    "collapsed": false,
    "ExecuteTime": {
     "end_time": "2023-12-16T17:06:30.909499Z",
     "start_time": "2023-12-16T17:06:30.691076Z"
    }
   }
  },
  {
   "cell_type": "code",
   "execution_count": 3,
   "outputs": [
    {
     "name": "stdout",
     "output_type": "stream",
     "text": [
      "https://api.fastforex.io/time-series?from=GBP&to=USD&start=2023-10-10&end=2023-10-12&api_key=60efacb25b-f5cabde71b-s2mytj\n"
     ]
    },
    {
     "data": {
      "text/plain": "{'error': 'API key no longer active'}"
     },
     "execution_count": 3,
     "metadata": {},
     "output_type": "execute_result"
    }
   ],
   "source": [
    "fastforex.get_timeseries('GBP', 'USD', '2023-10-10', '2023-10-12')"
   ],
   "metadata": {
    "collapsed": false,
    "ExecuteTime": {
     "end_time": "2023-12-16T17:06:33.380593Z",
     "start_time": "2023-12-16T17:06:33.206952Z"
    }
   }
  }
 ],
 "metadata": {
  "kernelspec": {
   "display_name": "Python 3",
   "language": "python",
   "name": "python3"
  },
  "language_info": {
   "codemirror_mode": {
    "name": "ipython",
    "version": 2
   },
   "file_extension": ".py",
   "mimetype": "text/x-python",
   "name": "python",
   "nbconvert_exporter": "python",
   "pygments_lexer": "ipython2",
   "version": "2.7.6"
  }
 },
 "nbformat": 4,
 "nbformat_minor": 0
}
