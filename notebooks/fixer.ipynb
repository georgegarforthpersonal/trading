{
 "cells": [
  {
   "cell_type": "code",
   "execution_count": 3,
   "outputs": [
    {
     "name": "stdout",
     "output_type": "stream",
     "text": [
      "The autoreload extension is already loaded. To reload it, use:\n",
      "  %reload_ext autoreload\n"
     ]
    }
   ],
   "source": [
    "from src import fixer\n",
    "from src import fastforex\n",
    "\n",
    "%load_ext autoreload\n",
    "%autoreload 2"
   ],
   "metadata": {
    "collapsed": false,
    "ExecuteTime": {
     "end_time": "2023-10-16T19:24:51.262883Z",
     "start_time": "2023-10-16T19:24:51.243836Z"
    }
   }
  },
  {
   "cell_type": "code",
   "execution_count": 6,
   "outputs": [
    {
     "data": {
      "text/plain": "{'success': False,\n 'error': {'code': 105,\n  'type': 'function_access_restricted',\n  'info': 'Access Restricted - Your current Subscription Plan does not support this API Function.'}}"
     },
     "execution_count": 6,
     "metadata": {},
     "output_type": "execute_result"
    }
   ],
   "source": [
    "fixer.get_timeseries('2023-10-01','2023-10-03')"
   ],
   "metadata": {
    "collapsed": false,
    "ExecuteTime": {
     "end_time": "2023-10-16T19:24:54.884155Z",
     "start_time": "2023-10-16T19:24:54.667833Z"
    }
   }
  },
  {
   "cell_type": "code",
   "execution_count": 11,
   "outputs": [
    {
     "name": "stdout",
     "output_type": "stream",
     "text": [
      "https://api.fastforex.io/time-series?from=GBP&to=USD&start=2023-10-10&end=2023-10-12&api_key=60efacb25b-f5cabde71b-s2mytj\n"
     ]
    },
    {
     "data": {
      "text/plain": "{'start': '2023-10-10',\n 'end': '2023-10-12',\n 'interval': 'P1D',\n 'base': 'GBP',\n 'results': {'USD': {'2023-10-10': 1.22567,\n   '2023-10-11': 1.231,\n   '2023-10-12': 1.22137}},\n 'ms': 7}"
     },
     "execution_count": 11,
     "metadata": {},
     "output_type": "execute_result"
    }
   ],
   "source": [
    "fastforex.get_timeseries('GBP', 'USD', '2023-10-10', '2023-10-12')"
   ],
   "metadata": {
    "collapsed": false,
    "ExecuteTime": {
     "end_time": "2023-10-16T19:30:17.605370Z",
     "start_time": "2023-10-16T19:30:17.502793Z"
    }
   }
  }
 ],
 "metadata": {
  "kernelspec": {
   "display_name": "Python 3",
   "language": "python",
   "name": "python3"
  },
  "language_info": {
   "codemirror_mode": {
    "name": "ipython",
    "version": 2
   },
   "file_extension": ".py",
   "mimetype": "text/x-python",
   "name": "python",
   "nbconvert_exporter": "python",
   "pygments_lexer": "ipython2",
   "version": "2.7.6"
  }
 },
 "nbformat": 4,
 "nbformat_minor": 0
}
